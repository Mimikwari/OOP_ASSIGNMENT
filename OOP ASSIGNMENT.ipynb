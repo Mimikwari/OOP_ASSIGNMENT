{
 "cells": [
  {
   "cell_type": "code",
   "execution_count": 2,
   "id": "ebb2ef61",
   "metadata": {},
   "outputs": [],
   "source": [
    "class Quadratic:\n",
    "    def __init__(self, a, b, c):\n",
    "        self.a = a\n",
    "        self.b = b\n",
    "        self.c = c\n",
    "\n",
    "    def discriminant(self):\n",
    "        return self.b**2 - 4*self.a*self.c\n",
    "\n",
    "    def get_roots(self):\n",
    "        d = self.discriminant()\n",
    "        if d < 0:\n",
    "            return \"The roots are imaginary\"\n",
    "        elif d == 0:\n",
    "            x = -self.b / (2 * self.a)\n",
    "            return x\n",
    "        else:\n",
    "            x1 = (-self.b + d ** 0.5) / (2 * self.a)\n",
    "            x2 = (-self.b - d ** 0.5) / (2 * self.a)\n",
    "            return x1, x2\n",
    "\n",
    "    def __add__(self, other):\n",
    "        return Quadratic(self.a + other.a, self.b + other.b, self.c + other.c)\n",
    "\n",
    "    def __sub__(self, other):\n",
    "        return Quadratic(self.a - other.a, self.b - other.b, self.c - other.c)\n",
    "\n",
    "    def __mul__(self, other):\n",
    "        return Quadratic(self.a * other.a, self.a * other.b + self.b * other.a, self.b * other.c + self.c * other.b + self.c * other.a)\n",
    "\n",
    "    def __pow__(self, power):\n",
    "        return Quadratic(self.a**power, self.b**power, self.c**power)\n",
    "\n",
    "    def __repr__(self):\n",
    "        return f\"Quadratic({self.a}, {self.b}, {self.c})\"\n",
    "\n",
    "    def __str__(self):\n",
    "        return f\"{self.a}x^2 + {self.b}x + {self.c}\"\n"
   ]
  },
  {
   "cell_type": "code",
   "execution_count": 3,
   "id": "7b274e77",
   "metadata": {},
   "outputs": [],
   "source": [
    "q1 = Quadratic(1, 5, 6)\n",
    "q2 = Quadratic(1, -4, 4)"
   ]
  },
  {
   "cell_type": "code",
   "execution_count": 4,
   "id": "acd556c4",
   "metadata": {},
   "outputs": [
    {
     "data": {
      "text/plain": [
       "Quadratic(1, 1, 2)"
      ]
     },
     "execution_count": 4,
     "metadata": {},
     "output_type": "execute_result"
    }
   ],
   "source": [
    "q1*q2"
   ]
  },
  {
   "cell_type": "code",
   "execution_count": 5,
   "id": "112e9601",
   "metadata": {},
   "outputs": [
    {
     "data": {
      "text/plain": [
       "Quadratic(0, 9, 2)"
      ]
     },
     "execution_count": 5,
     "metadata": {},
     "output_type": "execute_result"
    }
   ],
   "source": [
    "q1-q2"
   ]
  },
  {
   "cell_type": "code",
   "execution_count": null,
   "id": "e1862e46",
   "metadata": {},
   "outputs": [],
   "source": []
  }
 ],
 "metadata": {
  "kernelspec": {
   "display_name": "Python 3 (ipykernel)",
   "language": "python",
   "name": "python3"
  },
  "language_info": {
   "codemirror_mode": {
    "name": "ipython",
    "version": 3
   },
   "file_extension": ".py",
   "mimetype": "text/x-python",
   "name": "python",
   "nbconvert_exporter": "python",
   "pygments_lexer": "ipython3",
   "version": "3.10.9"
  }
 },
 "nbformat": 4,
 "nbformat_minor": 5
}
